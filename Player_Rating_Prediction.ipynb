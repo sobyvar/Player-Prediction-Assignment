{
  "nbformat": 4,
  "nbformat_minor": 0,
  "metadata": {
    "colab": {
      "name": "Player Rating Prediction.ipynb",
      "version": "0.3.2",
      "provenance": [],
      "collapsed_sections": []
    },
    "kernelspec": {
      "name": "python3",
      "display_name": "Python 3"
    }
  },
  "cells": [
    {
      "metadata": {
        "id": "KAb8nOliDIas",
        "colab_type": "code",
        "colab": {}
      },
      "cell_type": "code",
      "source": [
        ""
      ],
      "execution_count": 0,
      "outputs": []
    },
    {
      "metadata": {
        "id": "c2ptYpF2Db57",
        "colab_type": "text"
      },
      "cell_type": "markdown",
      "source": [
        "Download the packages"
      ]
    },
    {
      "metadata": {
        "id": "aIx1FvDjDjgX",
        "colab_type": "code",
        "colab": {}
      },
      "cell_type": "code",
      "source": [
        "!pip install -U -q PyDrive"
      ],
      "execution_count": 0,
      "outputs": []
    },
    {
      "metadata": {
        "id": "G4fY47N_D6ry",
        "colab_type": "code",
        "colab": {}
      },
      "cell_type": "code",
      "source": [
        "import sqlite3\n",
        "import numpy as np\n",
        "import pylab as pl\n",
        "import pandas as pd\n",
        "import statsmodels.api as sm\n",
        "import matplotlib.pyplot as plt\n",
        "\n",
        "from math import sqrt\n",
        "from sklearn.metrics import mean_squared_error\n",
        "from sklearn.linear_model import LinearRegression\n",
        "from sklearn.linear_model import LogisticRegression\n",
        "from sklearn.model_selection import train_test_split, cross_val_score\n",
        "\n",
        "%matplotlib inline"
      ],
      "execution_count": 0,
      "outputs": []
    },
    {
      "metadata": {
        "id": "Fq7ZpJ56ENhY",
        "colab_type": "text"
      },
      "cell_type": "markdown",
      "source": [
        "Import the packages and Authenticate the user"
      ]
    },
    {
      "metadata": {
        "id": "MLlLviobEalQ",
        "colab_type": "code",
        "colab": {}
      },
      "cell_type": "code",
      "source": [
        "import keras\n",
        "import psutil\n",
        "import pandas as pd\n",
        "import tensorflow as tf\n",
        "from google.colab import auth\n",
        "from google.colab import files\n",
        "from pydrive.auth import GoogleAuth\n",
        "from pydrive.drive import GoogleDrive\n",
        "from oauth2client.client import GoogleCredentials"
      ],
      "execution_count": 0,
      "outputs": []
    },
    {
      "metadata": {
        "id": "Mm5ipI8GEzzJ",
        "colab_type": "code",
        "colab": {}
      },
      "cell_type": "code",
      "source": [
        "auth.authenticate_user()\n",
        "gauth = GoogleAuth()\n",
        "gauth.credentials = GoogleCredentials.get_application_default()\n",
        "drive = GoogleDrive(gauth)"
      ],
      "execution_count": 0,
      "outputs": []
    },
    {
      "metadata": {
        "id": "GiwasSKIFL50",
        "colab_type": "text"
      },
      "cell_type": "markdown",
      "source": [
        "Read the content of the sqllite database"
      ]
    },
    {
      "metadata": {
        "id": "dm3SQUm3FUnY",
        "colab_type": "code",
        "colab": {}
      },
      "cell_type": "code",
      "source": [
        "file1 = drive.CreateFile({'id':'1B8Fu4lksbGYcus-_TuH5p_sEHs7S7X2S'})\n",
        "file1.GetContentFile('database.sqlite.zip')"
      ],
      "execution_count": 0,
      "outputs": []
    },
    {
      "metadata": {
        "id": "KSpcGEdLFyv4",
        "colab_type": "text"
      },
      "cell_type": "markdown",
      "source": [
        "Check the sqllite database is present or not"
      ]
    },
    {
      "metadata": {
        "id": "85bYBeVBF5yL",
        "colab_type": "code",
        "colab": {
          "base_uri": "https://localhost:8080/",
          "height": 34
        },
        "outputId": "22503765-2086-429e-e75c-01b897f66b93"
      },
      "cell_type": "code",
      "source": [
        "!ls"
      ],
      "execution_count": 24,
      "outputs": [
        {
          "output_type": "stream",
          "text": [
            "adc.json  database.sqlite  database.sqlite.zip\tsample_data\n"
          ],
          "name": "stdout"
        }
      ]
    },
    {
      "metadata": {
        "id": "EGcVAtcSF9BS",
        "colab_type": "text"
      },
      "cell_type": "markdown",
      "source": [
        "Unzip the content of the database"
      ]
    },
    {
      "metadata": {
        "id": "0c8wHY-EGAVU",
        "colab_type": "code",
        "colab": {
          "base_uri": "https://localhost:8080/",
          "height": 34
        },
        "outputId": "d00e5c16-0e1e-4c1e-eaa6-48620159daac"
      },
      "cell_type": "code",
      "source": [
        "!unzip -qq database.sqlite.zip "
      ],
      "execution_count": 25,
      "outputs": [
        {
          "output_type": "stream",
          "text": [
            "replace database.sqlite? [y]es, [n]o, [A]ll, [N]one, [r]ename: A\n"
          ],
          "name": "stdout"
        }
      ]
    },
    {
      "metadata": {
        "id": "zvcQrDo9Ghif",
        "colab_type": "text"
      },
      "cell_type": "markdown",
      "source": [
        "Check again the file has been unziped or not"
      ]
    },
    {
      "metadata": {
        "id": "6fm9qpe1GnhH",
        "colab_type": "code",
        "colab": {
          "base_uri": "https://localhost:8080/",
          "height": 34
        },
        "outputId": "0360f288-de0a-44fc-9bd5-654f046335ae"
      },
      "cell_type": "code",
      "source": [
        "!ls"
      ],
      "execution_count": 26,
      "outputs": [
        {
          "output_type": "stream",
          "text": [
            "adc.json  database.sqlite  database.sqlite.zip\tsample_data\n"
          ],
          "name": "stdout"
        }
      ]
    },
    {
      "metadata": {
        "id": "9cyVPZBDGq7x",
        "colab_type": "text"
      },
      "cell_type": "markdown",
      "source": [
        "Make the connection to the database and read the content"
      ]
    },
    {
      "metadata": {
        "id": "zufJNUS4GwGH",
        "colab_type": "code",
        "colab": {}
      },
      "cell_type": "code",
      "source": [
        "cnx = sqlite3.connect('database.sqlite')\n",
        "df = pd.read_sql_query(\"SELECT * FROM Player_Attributes\", cnx)"
      ],
      "execution_count": 0,
      "outputs": []
    },
    {
      "metadata": {
        "id": "HUIAJkF0G4Xx",
        "colab_type": "text"
      },
      "cell_type": "markdown",
      "source": [
        "Fetch the first 5 records"
      ]
    },
    {
      "metadata": {
        "id": "8GCARm7uG75s",
        "colab_type": "code",
        "colab": {
          "base_uri": "https://localhost:8080/",
          "height": 423
        },
        "outputId": "dfce4f02-60e1-488b-8ed7-94fbd985d7bc"
      },
      "cell_type": "code",
      "source": [
        "df.head()"
      ],
      "execution_count": 28,
      "outputs": [
        {
          "output_type": "execute_result",
          "data": {
            "text/html": [
              "<div>\n",
              "<style scoped>\n",
              "    .dataframe tbody tr th:only-of-type {\n",
              "        vertical-align: middle;\n",
              "    }\n",
              "\n",
              "    .dataframe tbody tr th {\n",
              "        vertical-align: top;\n",
              "    }\n",
              "\n",
              "    .dataframe thead th {\n",
              "        text-align: right;\n",
              "    }\n",
              "</style>\n",
              "<table border=\"1\" class=\"dataframe\">\n",
              "  <thead>\n",
              "    <tr style=\"text-align: right;\">\n",
              "      <th></th>\n",
              "      <th>id</th>\n",
              "      <th>player_fifa_api_id</th>\n",
              "      <th>player_api_id</th>\n",
              "      <th>date</th>\n",
              "      <th>overall_rating</th>\n",
              "      <th>potential</th>\n",
              "      <th>preferred_foot</th>\n",
              "      <th>attacking_work_rate</th>\n",
              "      <th>defensive_work_rate</th>\n",
              "      <th>crossing</th>\n",
              "      <th>...</th>\n",
              "      <th>vision</th>\n",
              "      <th>penalties</th>\n",
              "      <th>marking</th>\n",
              "      <th>standing_tackle</th>\n",
              "      <th>sliding_tackle</th>\n",
              "      <th>gk_diving</th>\n",
              "      <th>gk_handling</th>\n",
              "      <th>gk_kicking</th>\n",
              "      <th>gk_positioning</th>\n",
              "      <th>gk_reflexes</th>\n",
              "    </tr>\n",
              "  </thead>\n",
              "  <tbody>\n",
              "    <tr>\n",
              "      <th>0</th>\n",
              "      <td>1</td>\n",
              "      <td>218353</td>\n",
              "      <td>505942</td>\n",
              "      <td>2016-02-18 00:00:00</td>\n",
              "      <td>67.0</td>\n",
              "      <td>71.0</td>\n",
              "      <td>right</td>\n",
              "      <td>medium</td>\n",
              "      <td>medium</td>\n",
              "      <td>49.0</td>\n",
              "      <td>...</td>\n",
              "      <td>54.0</td>\n",
              "      <td>48.0</td>\n",
              "      <td>65.0</td>\n",
              "      <td>69.0</td>\n",
              "      <td>69.0</td>\n",
              "      <td>6.0</td>\n",
              "      <td>11.0</td>\n",
              "      <td>10.0</td>\n",
              "      <td>8.0</td>\n",
              "      <td>8.0</td>\n",
              "    </tr>\n",
              "    <tr>\n",
              "      <th>1</th>\n",
              "      <td>2</td>\n",
              "      <td>218353</td>\n",
              "      <td>505942</td>\n",
              "      <td>2015-11-19 00:00:00</td>\n",
              "      <td>67.0</td>\n",
              "      <td>71.0</td>\n",
              "      <td>right</td>\n",
              "      <td>medium</td>\n",
              "      <td>medium</td>\n",
              "      <td>49.0</td>\n",
              "      <td>...</td>\n",
              "      <td>54.0</td>\n",
              "      <td>48.0</td>\n",
              "      <td>65.0</td>\n",
              "      <td>69.0</td>\n",
              "      <td>69.0</td>\n",
              "      <td>6.0</td>\n",
              "      <td>11.0</td>\n",
              "      <td>10.0</td>\n",
              "      <td>8.0</td>\n",
              "      <td>8.0</td>\n",
              "    </tr>\n",
              "    <tr>\n",
              "      <th>2</th>\n",
              "      <td>3</td>\n",
              "      <td>218353</td>\n",
              "      <td>505942</td>\n",
              "      <td>2015-09-21 00:00:00</td>\n",
              "      <td>62.0</td>\n",
              "      <td>66.0</td>\n",
              "      <td>right</td>\n",
              "      <td>medium</td>\n",
              "      <td>medium</td>\n",
              "      <td>49.0</td>\n",
              "      <td>...</td>\n",
              "      <td>54.0</td>\n",
              "      <td>48.0</td>\n",
              "      <td>65.0</td>\n",
              "      <td>66.0</td>\n",
              "      <td>69.0</td>\n",
              "      <td>6.0</td>\n",
              "      <td>11.0</td>\n",
              "      <td>10.0</td>\n",
              "      <td>8.0</td>\n",
              "      <td>8.0</td>\n",
              "    </tr>\n",
              "    <tr>\n",
              "      <th>3</th>\n",
              "      <td>4</td>\n",
              "      <td>218353</td>\n",
              "      <td>505942</td>\n",
              "      <td>2015-03-20 00:00:00</td>\n",
              "      <td>61.0</td>\n",
              "      <td>65.0</td>\n",
              "      <td>right</td>\n",
              "      <td>medium</td>\n",
              "      <td>medium</td>\n",
              "      <td>48.0</td>\n",
              "      <td>...</td>\n",
              "      <td>53.0</td>\n",
              "      <td>47.0</td>\n",
              "      <td>62.0</td>\n",
              "      <td>63.0</td>\n",
              "      <td>66.0</td>\n",
              "      <td>5.0</td>\n",
              "      <td>10.0</td>\n",
              "      <td>9.0</td>\n",
              "      <td>7.0</td>\n",
              "      <td>7.0</td>\n",
              "    </tr>\n",
              "    <tr>\n",
              "      <th>4</th>\n",
              "      <td>5</td>\n",
              "      <td>218353</td>\n",
              "      <td>505942</td>\n",
              "      <td>2007-02-22 00:00:00</td>\n",
              "      <td>61.0</td>\n",
              "      <td>65.0</td>\n",
              "      <td>right</td>\n",
              "      <td>medium</td>\n",
              "      <td>medium</td>\n",
              "      <td>48.0</td>\n",
              "      <td>...</td>\n",
              "      <td>53.0</td>\n",
              "      <td>47.0</td>\n",
              "      <td>62.0</td>\n",
              "      <td>63.0</td>\n",
              "      <td>66.0</td>\n",
              "      <td>5.0</td>\n",
              "      <td>10.0</td>\n",
              "      <td>9.0</td>\n",
              "      <td>7.0</td>\n",
              "      <td>7.0</td>\n",
              "    </tr>\n",
              "  </tbody>\n",
              "</table>\n",
              "<p>5 rows × 42 columns</p>\n",
              "</div>"
            ],
            "text/plain": [
              "   id  player_fifa_api_id  player_api_id                 date  overall_rating  \\\n",
              "0   1              218353         505942  2016-02-18 00:00:00            67.0   \n",
              "1   2              218353         505942  2015-11-19 00:00:00            67.0   \n",
              "2   3              218353         505942  2015-09-21 00:00:00            62.0   \n",
              "3   4              218353         505942  2015-03-20 00:00:00            61.0   \n",
              "4   5              218353         505942  2007-02-22 00:00:00            61.0   \n",
              "\n",
              "   potential preferred_foot attacking_work_rate defensive_work_rate  crossing  \\\n",
              "0       71.0          right              medium              medium      49.0   \n",
              "1       71.0          right              medium              medium      49.0   \n",
              "2       66.0          right              medium              medium      49.0   \n",
              "3       65.0          right              medium              medium      48.0   \n",
              "4       65.0          right              medium              medium      48.0   \n",
              "\n",
              "      ...       vision  penalties  marking  standing_tackle  sliding_tackle  \\\n",
              "0     ...         54.0       48.0     65.0             69.0            69.0   \n",
              "1     ...         54.0       48.0     65.0             69.0            69.0   \n",
              "2     ...         54.0       48.0     65.0             66.0            69.0   \n",
              "3     ...         53.0       47.0     62.0             63.0            66.0   \n",
              "4     ...         53.0       47.0     62.0             63.0            66.0   \n",
              "\n",
              "   gk_diving  gk_handling  gk_kicking  gk_positioning  gk_reflexes  \n",
              "0        6.0         11.0        10.0             8.0          8.0  \n",
              "1        6.0         11.0        10.0             8.0          8.0  \n",
              "2        6.0         11.0        10.0             8.0          8.0  \n",
              "3        5.0         10.0         9.0             7.0          7.0  \n",
              "4        5.0         10.0         9.0             7.0          7.0  \n",
              "\n",
              "[5 rows x 42 columns]"
            ]
          },
          "metadata": {
            "tags": []
          },
          "execution_count": 28
        }
      ]
    },
    {
      "metadata": {
        "id": "pMyzKW7uHIzx",
        "colab_type": "text"
      },
      "cell_type": "markdown",
      "source": [
        "Get the shape of the dataframe"
      ]
    },
    {
      "metadata": {
        "id": "8s1pchDSHPKe",
        "colab_type": "code",
        "colab": {
          "base_uri": "https://localhost:8080/",
          "height": 34
        },
        "outputId": "5c216296-f7e8-46da-f143-7242d2f85872"
      },
      "cell_type": "code",
      "source": [
        "df.shape"
      ],
      "execution_count": 29,
      "outputs": [
        {
          "output_type": "execute_result",
          "data": {
            "text/plain": [
              "(183978, 42)"
            ]
          },
          "metadata": {
            "tags": []
          },
          "execution_count": 29
        }
      ]
    },
    {
      "metadata": {
        "id": "PvfERlF4Ha9g",
        "colab_type": "text"
      },
      "cell_type": "markdown",
      "source": [
        "Remove the missing values"
      ]
    },
    {
      "metadata": {
        "id": "eKsV1EDeHeNF",
        "colab_type": "code",
        "colab": {}
      },
      "cell_type": "code",
      "source": [
        "df = df.dropna()"
      ],
      "execution_count": 0,
      "outputs": []
    },
    {
      "metadata": {
        "id": "AAZEUUqJHjO9",
        "colab_type": "text"
      },
      "cell_type": "markdown",
      "source": [
        "Get the independent columns as feature columns"
      ]
    },
    {
      "metadata": {
        "id": "n1bCqVi5Hq3J",
        "colab_type": "code",
        "colab": {}
      },
      "cell_type": "code",
      "source": [
        "features = [\n",
        "       'potential', 'crossing', 'finishing', 'heading_accuracy',\n",
        "       'short_passing', 'volleys', 'dribbling', 'curve', 'free_kick_accuracy',\n",
        "       'long_passing', 'ball_control', 'acceleration', 'sprint_speed',\n",
        "       'agility', 'reactions', 'balance', 'shot_power', 'jumping', 'stamina',\n",
        "       'strength', 'long_shots', 'aggression', 'interceptions', 'positioning',\n",
        "       'vision', 'penalties', 'marking', 'standing_tackle', 'sliding_tackle',\n",
        "       'gk_diving', 'gk_handling', 'gk_kicking', 'gk_positioning',\n",
        "       'gk_reflexes']"
      ],
      "execution_count": 0,
      "outputs": []
    },
    {
      "metadata": {
        "id": "S91mzgeGHvjC",
        "colab_type": "text"
      },
      "cell_type": "markdown",
      "source": [
        "Get the target  column i.e overall rating column"
      ]
    },
    {
      "metadata": {
        "id": "qm4j9_SLH239",
        "colab_type": "code",
        "colab": {}
      },
      "cell_type": "code",
      "source": [
        "target = ['overall_rating']"
      ],
      "execution_count": 0,
      "outputs": []
    },
    {
      "metadata": {
        "id": "IcmrT1bPIKYF",
        "colab_type": "text"
      },
      "cell_type": "markdown",
      "source": [
        " Seperate the Features and Target ('overall_rating') Values into different Dataframes "
      ]
    },
    {
      "metadata": {
        "id": "xZEOgtRuPoek",
        "colab_type": "code",
        "colab": {}
      },
      "cell_type": "code",
      "source": [
        "X = df[features]\n",
        "y = df[target]"
      ],
      "execution_count": 0,
      "outputs": []
    },
    {
      "metadata": {
        "id": "IUJFPbIHQSHp",
        "colab_type": "text"
      },
      "cell_type": "markdown",
      "source": [
        "Split the Dataset into Training and Test Datasets "
      ]
    },
    {
      "metadata": {
        "id": "lVPBYf6UQUPp",
        "colab_type": "code",
        "colab": {}
      },
      "cell_type": "code",
      "source": [
        "X_train, X_test, y_train, y_test = train_test_split(X, y, test_size=0.30, random_state=25)"
      ],
      "execution_count": 0,
      "outputs": []
    },
    {
      "metadata": {
        "id": "xWU6VWG7Qczr",
        "colab_type": "text"
      },
      "cell_type": "markdown",
      "source": [
        "Using Linear Regression, Fit a model"
      ]
    },
    {
      "metadata": {
        "id": "qDBYJd-WQfIC",
        "colab_type": "code",
        "colab": {
          "base_uri": "https://localhost:8080/",
          "height": 34
        },
        "outputId": "6d7572cf-7811-48f6-8823-be9b21b04eb6"
      },
      "cell_type": "code",
      "source": [
        "reg = LinearRegression()\n",
        "reg.fit(X_train, y_train)"
      ],
      "execution_count": 35,
      "outputs": [
        {
          "output_type": "execute_result",
          "data": {
            "text/plain": [
              "LinearRegression(copy_X=True, fit_intercept=True, n_jobs=1, normalize=False)"
            ]
          },
          "metadata": {
            "tags": []
          },
          "execution_count": 35
        }
      ]
    },
    {
      "metadata": {
        "id": "wJ87y9cRQjOC",
        "colab_type": "text"
      },
      "cell_type": "markdown",
      "source": [
        "Do Prediction using Linear Regression Model for test dataset"
      ]
    },
    {
      "metadata": {
        "id": "GQSEDbCZQqO-",
        "colab_type": "code",
        "colab": {
          "base_uri": "https://localhost:8080/",
          "height": 136
        },
        "outputId": "f8f8fa72-8be4-4516-c665-beb27a19ca26"
      },
      "cell_type": "code",
      "source": [
        "y_prediction = reg.predict(X_test)\n",
        "y_prediction"
      ],
      "execution_count": 36,
      "outputs": [
        {
          "output_type": "execute_result",
          "data": {
            "text/plain": [
              "array([[80.86504784],\n",
              "       [62.47323238],\n",
              "       [68.10603044],\n",
              "       ...,\n",
              "       [75.47242786],\n",
              "       [75.42167822],\n",
              "       [65.06405917]])"
            ]
          },
          "metadata": {
            "tags": []
          },
          "execution_count": 36
        }
      ]
    },
    {
      "metadata": {
        "id": "59LCV_M7Qysx",
        "colab_type": "text"
      },
      "cell_type": "markdown",
      "source": [
        "Summarize the expected target value in test set "
      ]
    },
    {
      "metadata": {
        "id": "WGIFsvxYQ0Pn",
        "colab_type": "code",
        "colab": {
          "base_uri": "https://localhost:8080/",
          "height": 297
        },
        "outputId": "661a5802-ffdc-4960-8d1f-7aaa2efbcc3a"
      },
      "cell_type": "code",
      "source": [
        "y_test.describe()"
      ],
      "execution_count": 37,
      "outputs": [
        {
          "output_type": "execute_result",
          "data": {
            "text/html": [
              "<div>\n",
              "<style scoped>\n",
              "    .dataframe tbody tr th:only-of-type {\n",
              "        vertical-align: middle;\n",
              "    }\n",
              "\n",
              "    .dataframe tbody tr th {\n",
              "        vertical-align: top;\n",
              "    }\n",
              "\n",
              "    .dataframe thead th {\n",
              "        text-align: right;\n",
              "    }\n",
              "</style>\n",
              "<table border=\"1\" class=\"dataframe\">\n",
              "  <thead>\n",
              "    <tr style=\"text-align: right;\">\n",
              "      <th></th>\n",
              "      <th>overall_rating</th>\n",
              "    </tr>\n",
              "  </thead>\n",
              "  <tbody>\n",
              "    <tr>\n",
              "      <th>count</th>\n",
              "      <td>54107.000000</td>\n",
              "    </tr>\n",
              "    <tr>\n",
              "      <th>mean</th>\n",
              "      <td>68.640084</td>\n",
              "    </tr>\n",
              "    <tr>\n",
              "      <th>std</th>\n",
              "      <td>7.050012</td>\n",
              "    </tr>\n",
              "    <tr>\n",
              "      <th>min</th>\n",
              "      <td>33.000000</td>\n",
              "    </tr>\n",
              "    <tr>\n",
              "      <th>25%</th>\n",
              "      <td>64.000000</td>\n",
              "    </tr>\n",
              "    <tr>\n",
              "      <th>50%</th>\n",
              "      <td>69.000000</td>\n",
              "    </tr>\n",
              "    <tr>\n",
              "      <th>75%</th>\n",
              "      <td>73.000000</td>\n",
              "    </tr>\n",
              "    <tr>\n",
              "      <th>max</th>\n",
              "      <td>94.000000</td>\n",
              "    </tr>\n",
              "  </tbody>\n",
              "</table>\n",
              "</div>"
            ],
            "text/plain": [
              "       overall_rating\n",
              "count    54107.000000\n",
              "mean        68.640084\n",
              "std          7.050012\n",
              "min         33.000000\n",
              "25%         64.000000\n",
              "50%         69.000000\n",
              "75%         73.000000\n",
              "max         94.000000"
            ]
          },
          "metadata": {
            "tags": []
          },
          "execution_count": 37
        }
      ]
    },
    {
      "metadata": {
        "id": "pW2-HXArQ8Hd",
        "colab_type": "text"
      },
      "cell_type": "markdown",
      "source": [
        "Evaluate Linear Regression Accuracy using Root Mean Square Error and print the result\n",
        "\n",
        "\n",
        "\n"
      ]
    },
    {
      "metadata": {
        "id": "-jio7uEgRDkC",
        "colab_type": "code",
        "colab": {
          "base_uri": "https://localhost:8080/",
          "height": 34
        },
        "outputId": "21f5500e-7d49-4059-f461-c5925c24d512"
      },
      "cell_type": "code",
      "source": [
        "RMSE = sqrt(mean_squared_error(y_true = y_test, y_pred = y_prediction))\n",
        "RMSE"
      ],
      "execution_count": 38,
      "outputs": [
        {
          "output_type": "execute_result",
          "data": {
            "text/plain": [
              "2.8143667475933287"
            ]
          },
          "metadata": {
            "tags": []
          },
          "execution_count": 38
        }
      ]
    }
  ]
}